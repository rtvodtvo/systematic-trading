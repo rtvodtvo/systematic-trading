{
 "cells": [
  {
   "cell_type": "code",
   "execution_count": 1,
   "id": "4ccd1731-03f2-43cf-ad83-91a983761450",
   "metadata": {
    "editable": true,
    "slideshow": {
     "slide_type": ""
    },
    "tags": []
   },
   "outputs": [],
   "source": [
    "import pandas_ta as ta\n",
    "from datetime import datetime\n",
    "from datetime import timedelta\n",
    "import yfinance as yf\n",
    "import time\n",
    "import math\n",
    "import http.client\n",
    "import json\n",
    "import numpy as np\n",
    "import pandas as pd\n",
    "import plotly.graph_objs as go\n",
    "import http.client\n",
    "import json\n",
    "import pandas_ta as ta\n",
    "from datetime import datetime\n",
    "from datetime import timedelta\n",
    "import yfinance as yf\n",
    "import time\n",
    "import math\n",
    "from talipp.indicators import EMA, SMA, Stoch, RSI\n",
    "from talipp.ohlcv import OHLCVFactory"
   ]
  },
  {
   "cell_type": "code",
   "execution_count": 2,
   "id": "3d74bbce-e82b-4c5f-88b9-bb968ae840c3",
   "metadata": {},
   "outputs": [],
   "source": [
    "def stop_loss_value(price, position , stop_loss, balance ,direction, leverage):\n",
    "    '''\n",
    "    stop_loss_value(price, position , stop_loss, balance ,\"BUY\", leverage)\n",
    "    position + percentage of instrument being bought\n",
    "    price = price of an instrument like bitcoin\n",
    "    balance = account balance\n",
    "    stop_loss = perentage like  0.01\n",
    "    direction \"BUY\", \"SELL\"\n",
    "    '''\n",
    "    temp= 0\n",
    "    stop_loss_value = stop_loss*balance\n",
    "    position_value = position * price\n",
    "    if direction == \"BUY\":\n",
    "            temp =position_value - stop_loss_value\n",
    "    elif direction == \"SELL\":\n",
    "            temp = position_value +stop_loss_value\n",
    "    stop_loss_price = (temp/position_value)*price\n",
    "    return(stop_loss_price)"
   ]
  },
  {
   "cell_type": "code",
   "execution_count": 3,
   "id": "9b9ea614-f859-4f94-b9f4-84a5b80e6993",
   "metadata": {},
   "outputs": [],
   "source": [
    "def convert(seconds):\n",
    "    minutes = seconds // 60\n",
    "    return minutes"
   ]
  },
  {
   "cell_type": "code",
   "execution_count": 4,
   "id": "77f3fc8a-ddb6-478e-9124-2c7b5712c4b1",
   "metadata": {
    "editable": true,
    "slideshow": {
     "slide_type": ""
    },
    "tags": []
   },
   "outputs": [],
   "source": [
    "def ping_server_till_next_hour(keys):\n",
    "    # Calculate the minutes until the next hour using the get_hour_pause function\n",
    "    minutes_till_next_hour = convert(get_hour_pause())\n",
    "\n",
    "    # Calculate the number of iterations based on 8-minute intervals\n",
    "    iterations = minutes_till_next_hour // 8\n",
    "\n",
    "    # Loop through the iterations and ping the server\n",
    "    for i in range(iterations):\n",
    "        # Ping the server using the provided keys\n",
    "        ping(keys)\n",
    "\n",
    "        # Sleep for 480 seconds (8 minutes) before the next iteration\n",
    "        time.sleep(480)\n"
   ]
  },
  {
   "cell_type": "code",
   "execution_count": 2,
   "id": "3c9aa0c2-c2c9-4163-897e-fb5809b6bf21",
   "metadata": {},
   "outputs": [],
   "source": [
    "def ping_server_till_next_30min(keys):\n",
    "    # Calculate the minutes until the next 30 minutes using the get_30min_pause function\n",
    "    minutes_till_next_30min = convert(get_30min_pause())\n",
    "\n",
    "    # Calculate the number of iterations based on 8-minute intervals\n",
    "    iterations = minutes_till_next_30min // 8\n",
    "\n",
    "    # Loop through the iterations and ping the server\n",
    "    for i in range(iterations):\n",
    "        # Ping the server using the provided keys\n",
    "        ping(keys)\n",
    "\n",
    "        # Sleep for 480 seconds (8 minutes) before the next iteration\n",
    "        time.sleep(480)"
   ]
  },
  {
   "cell_type": "code",
   "execution_count": 5,
   "id": "01194402-cd11-4e37-8a1c-c5dd9d031a43",
   "metadata": {},
   "outputs": [],
   "source": [
    "def get_daily_trading_pause():\n",
    "    # Calculate the time difference of one hour\n",
    "    delta = timedelta(hours=1)\n",
    "\n",
    "    # Get the current date and time\n",
    "    now = datetime.now()\n",
    "\n",
    "    # Calculate the time of the next trading day, setting seconds and microsecond to zero,\n",
    "    # minute to 35, and hour to 15 (3:35 PM)\n",
    "    next_hour = (now + delta).replace(microsecond=0, second=0, minute=35, hour=15)\n",
    "\n",
    "    # Calculate the time difference (pause) until the next trading day\n",
    "    pause = (next_hour - now).seconds\n",
    "\n",
    "    # Return the calculated pause duration\n",
    "    return pause"
   ]
  },
  {
   "cell_type": "code",
   "execution_count": 6,
   "id": "75bc7fd8-038f-4efd-8d90-bdd5b50f4df6",
   "metadata": {},
   "outputs": [],
   "source": [
    "def get_daily_pause():\n",
    "    # Calculate the time difference of one hour\n",
    "    delta = timedelta(hours=1)\n",
    "\n",
    "    # Get the current date and time\n",
    "    now = datetime.now()\n",
    "\n",
    "    # Calculate the time of the next day, setting seconds and microsecond to zero,\n",
    "    # minute to 5, and hour to 0 (midnight)\n",
    "    next_hour = (now + delta).replace(microsecond=0, second=0, minute=5, hour=0)\n",
    "\n",
    "    # Calculate the time difference (pause) until the next day\n",
    "    pause = (next_hour - now).seconds\n",
    "\n",
    "    # Return the calculated pause duration\n",
    "    return pause"
   ]
  },
  {
   "cell_type": "code",
   "execution_count": 7,
   "id": "2f8a14ef-0734-469b-a9bc-15bf96ca50d2",
   "metadata": {},
   "outputs": [],
   "source": [
    "def get_pause():\n",
    "    # Get the current date and time\n",
    "    now = datetime.now()\n",
    "\n",
    "    # Calculate the time of the next minute, setting seconds and microsecond to zero\n",
    "    next_min = now.replace(second=0, microsecond=0) + timedelta(minutes=1)\n",
    "\n",
    "    # Calculate the time difference (pause) until the next minute and round up using math.ceil\n",
    "    pause = math.ceil((next_min - now).seconds)\n",
    "\n",
    "    # Print the calculated pause duration for informational purposes\n",
    "    print(f\"Sleep for {pause} seconds\")\n",
    "\n",
    "    # Return the calculated pause duration\n",
    "    return pause"
   ]
  },
  {
   "cell_type": "code",
   "execution_count": 8,
   "id": "a8173c1d-24a4-4a7f-9d21-5157c860e9a1",
   "metadata": {},
   "outputs": [],
   "source": [
    "def get_hour_pause():\n",
    "    # Calculate the time difference of one hour\n",
    "    delta = timedelta(hours=1)\n",
    "\n",
    "    # Get the current date and time\n",
    "    now = datetime.now()\n",
    "\n",
    "    # Calculate the time of the next hour, setting seconds and microsecond to zero and minute to 1\n",
    "    next_hour = (now + delta).replace(microsecond=0, second=0, minute=1)\n",
    "\n",
    "    # Calculate the time difference (pause) until the next hour\n",
    "    pause = (next_hour - now).seconds\n",
    "\n",
    "    # Return the calculated pause duration\n",
    "    return pause"
   ]
  },
  {
   "cell_type": "code",
   "execution_count": 1,
   "id": "b026e80a-d513-4f89-b375-71f0366652aa",
   "metadata": {},
   "outputs": [],
   "source": [
    "def get_30min_pause():\n",
    "    # Get the current time\n",
    "    current_time = datetime.now()\n",
    "    # Calculate the time until the next half-hour\n",
    "    pause = (31 - current_time.minute % 30) * 60 - current_time.second\n",
    "    return pause"
   ]
  },
  {
   "cell_type": "code",
   "execution_count": 9,
   "id": "dfd2c2a2-a727-4aa3-927d-d8d9e0cefc2d",
   "metadata": {
    "editable": true,
    "slideshow": {
     "slide_type": ""
    },
    "tags": []
   },
   "outputs": [],
   "source": [
    "def RSI_Calc(df):\n",
    "   # Calculate diff\n",
    "    diff=df.Close.diff().dropna()\n",
    "    # Ups\n",
    "    plus=diff.map(lambda x: x if x>0 else 0).rename('Plus')\n",
    "    # Downs\n",
    "    minus=diff.map(lambda x: -1*x if x<0 else 0).rename('Minus')\n",
    "    rsi14=pd.concat([diff,plus,minus],axis=1)\n",
    "    # init average up\n",
    "    rsi14['AvgUP'] = rsi14.Plus[:14].sum()/14\n",
    "    # init average down\n",
    "    rsi14['AvgDOWN'] = rsi14.Minus[:14].sum()/14\n",
    "    # calculate AvgUP and AvgDown with the recurrent formula\n",
    "    for i in range(14,rsi14.Close.size):\n",
    "        rsi14['AvgUP'].iloc[i]=(rsi14['Plus'].iloc[i] + 13*rsi14['AvgUP'].iloc[i-1])/14\n",
    "        rsi14['AvgDOWN'].iloc[i]=(rsi14['Minus'].iloc[i] + 13*rsi14['AvgDOWN'].iloc[i-1])/14\n",
    "    rsi14['RSI']=100 - 100 / (1+rsi14['AvgUP']/rsi14['AvgDOWN'])\n",
    "    return  rsi14['RSI']"
   ]
  },
  {
   "cell_type": "code",
   "execution_count": null,
   "id": "91c00a5d-967b-47d1-aab9-cb938e2b79de",
   "metadata": {},
   "outputs": [],
   "source": [
    "def generate_Breakout_data(spx_data):\n",
    "    # Resetting index to use the default integer index\n",
    "    spx_data.reset_index(inplace=True)\n",
    "\n",
    "    # Extracting relevant columns and calculating additional features\n",
    "    prices = spx_data\n",
    "    prices['O-to-C'] = prices['Close'] - prices['Open']\n",
    "    prices['OC-20D-Mean'] = prices['O-to-C'].rolling(20).mean()\n",
    "    prices['OC-%-from-20D-Mean'] = 100 * (prices['O-to-C'] - prices['OC-20D-Mean']) / prices['OC-20D-Mean']\n",
    "    prices['MaxOC_Prev10'] = prices['O-to-C'].rolling(10).max()\n",
    "    prices['Volume-20D-Mean'] = prices['Volume'].rolling(20).mean()\n",
    "    prices['Volume-%-from-20D-Mean'] = 100 * (prices['Volume'] - prices['Volume-20D-Mean']) / prices['Volume-20D-Mean']\n"
   ]
  }
 ],
 "metadata": {
  "kernelspec": {
   "display_name": "Python 3 (ipykernel)",
   "language": "python",
   "name": "python3"
  },
  "language_info": {
   "codemirror_mode": {
    "name": "ipython",
    "version": 3
   },
   "file_extension": ".py",
   "mimetype": "text/x-python",
   "name": "python",
   "nbconvert_exporter": "python",
   "pygments_lexer": "ipython3",
   "version": "3.10.13"
  }
 },
 "nbformat": 4,
 "nbformat_minor": 5
}
