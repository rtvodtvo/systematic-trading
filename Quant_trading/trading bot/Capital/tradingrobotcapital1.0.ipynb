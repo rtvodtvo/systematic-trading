{
 "cells": [
  {
   "cell_type": "code",
   "execution_count": 33,
   "id": "72ad18a1-259a-46a4-aae8-aa31c9a07bf8",
   "metadata": {},
   "outputs": [],
   "source": [
    "from datetime import datetime\n",
    "from datetime import timedelta\n",
    "import yfinance as yf\n",
    "import time\n",
    "import math\n",
    "import pandas as pd\n",
    "import pandas_ta as ta\n",
    "import json\n",
    "import numpy as np\n",
    "import pandas as pd\n",
    "import http.client\n",
    "import json\n",
    "#casove pasma\n",
    "import pytz\n",
    "import os"
   ]
  },
  {
   "cell_type": "code",
   "execution_count": 34,
   "id": "ef0fd33c-7643-4439-83d4-fceec2cd8382",
   "metadata": {},
   "outputs": [],
   "source": [
    "#disabling idle culling in terminal for ubuntu\n",
    "#sudo tljh-config set services.cull.enabled False\n",
    "#sudo tljh-config reload"
   ]
  },
  {
   "cell_type": "code",
   "execution_count": 35,
   "id": "dff7f871-564e-4869-aae3-f5477292572f",
   "metadata": {},
   "outputs": [],
   "source": [
    "#alternative saving of output\n",
    "#%%capture output\n",
    "#output.show()"
   ]
  },
  {
   "cell_type": "code",
   "execution_count": 36,
   "id": "4ac8797d-0bd5-4e70-833e-f76ba3b0d304",
   "metadata": {},
   "outputs": [],
   "source": [
    "#get current date and time\n",
    "tz_BA = pytz.timezone('Europe/Bratislava')\n",
    "current_datetime = datetime.now(tz_BA).strftime(\"%Y-%m-%d %H-%M-%S\")\n",
    "# convert datetime obj to string\n",
    "str_current_datetime = str(current_datetime)\n",
    "# create a file name\n",
    "file_name = \"//home//jupyter-fiko//sesions log//\"+\"sesionBTCETH \"+str_current_datetime+\".txt\"\n",
    "\n",
    "#We can adjust Jupyter with just a pinch of code so that it saved the output directly to a file on the server\n",
    "import sys\n",
    "import logging\n",
    "so = open(file_name, 'w', 10)\n",
    "sys.stdout.echo = so\n",
    "sys.stderr.echo = so\n",
    "get_ipython().log.handlers[0].stream = so\n",
    "get_ipython().log.setLevel(logging.INFO)\n"
   ]
  },
  {
   "cell_type": "code",
   "execution_count": 37,
   "id": "fc30f008-7368-4449-826d-53fe7700ddad",
   "metadata": {},
   "outputs": [],
   "source": [
    "#api key : PVfAU6CQLBexjF1H\n",
    "#password : Karanos%23\n",
    "#demo : demo-api-capital.backend-capital.com\n",
    "#live : api-capital.backend-capital.com\n",
    "#tickers EURUSD=X , GBPUSD=X , AUDJPY=X\n",
    "%run bot_functions.ipynb\n",
    "%run capital_commands.ipynb"
   ]
  },
  {
   "cell_type": "code",
   "execution_count": 38,
   "id": "c7406f9c-69fd-4f34-8dbc-bfecf032459d",
   "metadata": {},
   "outputs": [],
   "source": [
    "asset_list = [\n",
    "    {'ticker':'BTC', 'yfticker':yf.Ticker('BTC-USD'),'capitalticker':'BTCUSD'},\n",
    "    {'ticker':'ETH', 'yfticker':yf.Ticker('ETH-USD'),'capitalticker':'ETHUSD'},\n",
    "]"
   ]
  },
  {
   "cell_type": "code",
   "execution_count": 39,
   "id": "e838c611-8dc7-4341-b428-41531b218fd2",
   "metadata": {},
   "outputs": [],
   "source": [
    "keys =get_demo_keys()"
   ]
  },
  {
   "cell_type": "code",
   "execution_count": null,
   "id": "976ba24c-e7d4-4bd4-9f1b-a54c27e64121",
   "metadata": {},
   "outputs": [
    {
     "name": "stdout",
     "output_type": "stream",
     "text": [
      "BTC current rsi =  80.10795862973116  , time =  20:27:46\n",
      "ETH current rsi =  80.52156668016833  , time =  20:27:50\n",
      "Sleep for 9\n",
      "BTC current rsi =  80.10795862973116  , time =  20:28:03\n",
      "ETH current rsi =  80.52156668016833  , time =  20:28:06\n",
      "Sleep for 53\n",
      "BTC current rsi =  80.13390227321666  , time =  20:29:03\n",
      "ETH current rsi =  81.11240968907802  , time =  20:29:06\n",
      "Sleep for 53\n",
      "BTC current rsi =  69.14023629705994  , time =  20:30:04\n",
      "ETH current rsi =  62.77728524498859  , time =  20:30:06\n",
      "Sleep for 53\n",
      "BTC current rsi =  69.6381590910574  , time =  20:31:04\n",
      "ETH current rsi =  63.80712882480264  , time =  20:31:07\n",
      "Sleep for 52\n"
     ]
    }
   ],
   "source": [
    "asset = yf.Ticker('BTC-USD')\n",
    "tradelog = []\n",
    "while True:\n",
    "    for asset in asset_list:\n",
    "        ping(keys)\n",
    "        start_date = (datetime.now()-timedelta(days=2)).strftime('%Y-%m-%d')\n",
    "        df = asset['yfticker'].history(start=start_date, interval='1m')\n",
    "\n",
    "        price = df.iloc[-1]['Close']\n",
    "        df['rsi']  = RSI_Calc(df)\n",
    "        tz_BA = pytz.timezone('Europe/Bratislava')\n",
    "        BA = datetime.now(tz_BA)\n",
    "        print( asset['ticker']+\" current rsi = \",df.iloc[-1]['rsi'],\" , time = \", BA.strftime(\"%H:%M:%S\") )\n",
    "        \n",
    "        if df.iloc[-2]['rsi'] < 50 and df.iloc[-1]['rsi'] > 50 :\n",
    "            print(f\"Buy {asset['yfticker']}@{price}\")\n",
    "            tradelog.append({'date': datetime.now(), 'ticker': asset['yfticker'], 'side': 'buy', 'price': price})\n",
    "            if get_id_from_instrument_name(keys,'Bitcoin / USD') != []:\n",
    "                close_position(keys,get_id_from_instrument_name(keys,'Bitcoin / USD'))\n",
    "            open_position(keys, asset['capitalticker'], \"BUY\", 0.01)\n",
    "            \n",
    "        elif df.iloc[-2]['rsi'] > 50 and df.iloc[-1]['rsi'] < 50:\n",
    "            print(f\"Sell {asset['yfticker']}@{price}\")\n",
    "            tradelog.append({'date': datetime.now(), 'ticker': asset['yfticker'], 'side': 'sell', 'price': price})\n",
    "            if get_id_from_instrument_name(keys,'Bitcoin / USD') != []:\n",
    "                close_position(keys,get_id_from_instrument_name(keys,'Bitcoin / USD'))\n",
    "            open_position(keys, asset['capitalticker'], \"SELL\", 0.01)\n",
    "        \n",
    "    time.sleep(get_pause())"
   ]
  }
 ],
 "metadata": {
  "kernelspec": {
   "display_name": "Python 3 (ipykernel)",
   "language": "python",
   "name": "python3"
  },
  "language_info": {
   "codemirror_mode": {
    "name": "ipython",
    "version": 3
   },
   "file_extension": ".py",
   "mimetype": "text/x-python",
   "name": "python",
   "nbconvert_exporter": "python",
   "pygments_lexer": "ipython3",
   "version": "3.10.13"
  }
 },
 "nbformat": 4,
 "nbformat_minor": 5
}
