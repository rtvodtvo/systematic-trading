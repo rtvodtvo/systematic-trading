{
 "cells": [
  {
   "cell_type": "code",
   "execution_count": 84,
   "id": "72ad18a1-259a-46a4-aae8-aa31c9a07bf8",
   "metadata": {},
   "outputs": [],
   "source": [
    "from datetime import datetime\n",
    "from datetime import timedelta\n",
    "import yfinance as yf\n",
    "import time\n",
    "import math\n",
    "import pandas as pd\n",
    "import pandas_ta as ta\n",
    "import json\n",
    "import numpy as np\n",
    "import pandas as pd\n",
    "import http.client\n",
    "import json\n",
    "#casove pasma\n",
    "import pytz\n",
    "import sys\n",
    "import logging\n",
    "import os"
   ]
  },
  {
   "cell_type": "code",
   "execution_count": 85,
   "id": "af25ef8f-7550-4db8-ab96-24aa0668f654",
   "metadata": {},
   "outputs": [],
   "source": [
    "#get current date and time\n",
    "tz_BA = pytz.timezone('Europe/Bratislava')\n",
    "current_datetime = datetime.now(tz_BA).strftime(\"%Y-%m-%d %H-%M-%S\")\n",
    "# convert datetime obj to string\n",
    "str_current_datetime = str(current_datetime)\n",
    "# create a file name\n",
    "file_name = \"C:\\\\Users\\\\adamj\\\\Documents\\\\Projekty_Python\\\\Quant_trading\\\\trading bot\\\\Capital\\\\sessions log\\\\\"+\"session_breakout \"+str_current_datetime+\".txt\"\n",
    "\n",
    "#We can adjust Jupyter with just a pinch of code so that it saved the output directly to a file on the server\n",
    "import sys\n",
    "import logging\n",
    "so = open(file_name, 'w', 10)\n",
    "sys.stdout.echo = so\n",
    "sys.stderr.echo = so\n",
    "get_ipython().log.handlers[0].stream = so\n",
    "get_ipython().log.setLevel(logging.INFO)"
   ]
  },
  {
   "cell_type": "code",
   "execution_count": 86,
   "id": "fc30f008-7368-4449-826d-53fe7700ddad",
   "metadata": {
    "editable": true,
    "slideshow": {
     "slide_type": ""
    },
    "tags": []
   },
   "outputs": [],
   "source": [
    "%run \"C:\\Users\\adamj\\Documents\\Projekty_Python\\Quant_trading\\trading bot\\Capital\\bot_functions.ipynb\"\n",
    "%run \"C:\\Users\\adamj\\Documents\\Projekty_Python\\Quant_trading\\trading bot\\Capital\\capital_commands.ipynb\""
   ]
  },
  {
   "cell_type": "code",
   "execution_count": 87,
   "id": "c7406f9c-69fd-4f34-8dbc-bfecf032459d",
   "metadata": {},
   "outputs": [],
   "source": [
    "asset_list = [\n",
    "    {'ticker':'spx500', 'yfticker':yf.Ticker('^GSPC'),'capitalticker':'US500'},\n",
    "    {'ticker':'nasdaq', 'yfticker':yf.Ticker('^NDX'),'capitalticker':'US100'},\n",
    "    {'ticker':'gold', 'yfticker':yf.Ticker('gdx'),'capitalticker':'GOLD'},\n",
    "    {'ticker':'BAC', 'yfticker':yf.Ticker('BAC'),'capitalticker':'BAC'},\n",
    "    {'ticker':'AAPL', 'yfticker':yf.Ticker('AAPL'),'capitalticker':'AAPL'}\n",
    "]"
   ]
  },
  {
   "cell_type": "code",
   "execution_count": 88,
   "id": "21ee017e-ab5c-43da-a78a-be84e778e9a5",
   "metadata": {},
   "outputs": [],
   "source": [
    "#print_acount_ids(keys)\n",
    "#190868445419885726 = tradingbot\r",
    "#204556841203872030 = Breakout strategy 11k start"
   ]
  },
  {
   "cell_type": "code",
   "execution_count": 89,
   "id": "722b1588-73bd-40fe-a92e-fa3f678e9e84",
   "metadata": {},
   "outputs": [],
   "source": [
    "keys =get_demo_keys()"
   ]
  },
  {
   "cell_type": "code",
   "execution_count": 90,
   "id": "976ba24c-e7d4-4bd4-9f1b-a54c27e64121",
   "metadata": {},
   "outputs": [
    {
     "name": "stdout",
     "output_type": "stream",
     "text": [
      "spx500 checked , time =   00:14:22\n",
      "nasdaq checked , time =   00:14:23\n",
      "gold checked , time =   00:14:24\n",
      "BAC checked , time =   00:14:25\n",
      "AAPL checked , time =   00:14:26\n",
      "Sleep for 994 seconds\n"
     ]
    },
    {
     "ename": "KeyboardInterrupt",
     "evalue": "",
     "output_type": "error",
     "traceback": [
      "\u001b[1;31m---------------------------------------------------------------------------\u001b[0m",
      "\u001b[1;31mKeyboardInterrupt\u001b[0m                         Traceback (most recent call last)",
      "Cell \u001b[1;32mIn[90], line 40\u001b[0m\n\u001b[0;32m     38\u001b[0m     \u001b[38;5;28mprint\u001b[39m( asset[\u001b[38;5;124m'\u001b[39m\u001b[38;5;124mticker\u001b[39m\u001b[38;5;124m'\u001b[39m]\u001b[38;5;241m+\u001b[39m\u001b[38;5;124m\"\u001b[39m\u001b[38;5;124m checked \u001b[39m\u001b[38;5;124m\"\u001b[39m \u001b[38;5;241m+\u001b[39m\u001b[38;5;124m\"\u001b[39m\u001b[38;5;124m, time =  \u001b[39m\u001b[38;5;124m\"\u001b[39m,BA\u001b[38;5;241m.\u001b[39mstrftime(\u001b[38;5;124m\"\u001b[39m\u001b[38;5;124m%\u001b[39m\u001b[38;5;124mH:\u001b[39m\u001b[38;5;124m%\u001b[39m\u001b[38;5;124mM:\u001b[39m\u001b[38;5;124m%\u001b[39m\u001b[38;5;124mS\u001b[39m\u001b[38;5;124m\"\u001b[39m) )\n\u001b[0;32m     39\u001b[0m \u001b[38;5;28mprint\u001b[39m(\u001b[38;5;124mf\u001b[39m\u001b[38;5;124m\"\u001b[39m\u001b[38;5;124mSleep for \u001b[39m\u001b[38;5;132;01m{\u001b[39;00mget_30min_pause()\u001b[38;5;132;01m}\u001b[39;00m\u001b[38;5;124m seconds\u001b[39m\u001b[38;5;124m\"\u001b[39m)\n\u001b[1;32m---> 40\u001b[0m \u001b[43mping_server_till_next_30min\u001b[49m\u001b[43m(\u001b[49m\u001b[43mkeys\u001b[49m\u001b[43m)\u001b[49m\n\u001b[0;32m     41\u001b[0m time\u001b[38;5;241m.\u001b[39msleep(get_30min_pause())\n",
      "File \u001b[1;32m~\\AppData\\Local\\Temp\\ipykernel_22052\\1757845852.py:14\u001b[0m, in \u001b[0;36mping_server_till_next_30min\u001b[1;34m(keys)\u001b[0m\n\u001b[0;32m     11\u001b[0m ping(keys)\n\u001b[0;32m     13\u001b[0m \u001b[38;5;66;03m# Sleep for 480 seconds (8 minutes) before the next iteration\u001b[39;00m\n\u001b[1;32m---> 14\u001b[0m \u001b[43mtime\u001b[49m\u001b[38;5;241;43m.\u001b[39;49m\u001b[43msleep\u001b[49m\u001b[43m(\u001b[49m\u001b[38;5;241;43m480\u001b[39;49m\u001b[43m)\u001b[49m\n",
      "\u001b[1;31mKeyboardInterrupt\u001b[0m: "
     ]
    }
   ],
   "source": [
    "position_size = 0.1\n",
    "   \n",
    "while True:\n",
    "    ping(keys)\n",
    "    #choose trading acount\n",
    "    switch_acount(keys,190868445419885726)\n",
    "    #with wrong name u get error\n",
    "    balance =  acount_balance(keys,'tradingbot')\n",
    "    \n",
    "    for asset in asset_list:\n",
    "        start_date = (datetime.now()-timedelta(days=2)).strftime('%Y-%m-%d')\n",
    "        df = asset['yfticker'].history(start=start_date, interval='30m')\n",
    "        price = df.iloc[-1]['Close']\n",
    "        leverage = instrument_leverage(keys,asset['capitalticker'])\n",
    "        position = round((position_size * balance * leverage) / price,2)\n",
    "        generate_Breakout_data(df)\n",
    "        tz_BA = pytz.timezone('Europe/Bratislava')\n",
    "        BA = datetime.now(tz_BA)\n",
    "\n",
    "        # Defining breakout conditions\n",
    "        # Conditions:\n",
    "        # 1. Green candle,\n",
    "        # 2. Candle's body is longest in the last 10 days,\n",
    "        # 3. Breakout volume is 50% higher than the rolling 20-day average, and\n",
    "        # 4. Breakout candle has a body that is 100% higher than the rolling 20-day average\n",
    "        condition = (\n",
    "            (df['O-to-C'] >= 0.0) & \n",
    "            (df['O-to-C'] == df['MaxOC_Prev10']) & \n",
    "            (df['OC-%-from-20D-Mean'] >= 100.0) & \n",
    "            (df['Volume-%-from-20D-Mean'] >= 50.0))\n",
    "        \n",
    "        if condition.iloc[-1] == True and df.iloc[-1,0].hour != 15 and df.iloc[-1,0].minute != 30:\n",
    "            print(f\"Buy {asset['ticker']} at {price} $\")\n",
    "                \n",
    "            open_position_with_stoploss(keys, asset['capitalticker'], \n",
    "            \"BUY\", position, stoplosslevel= (df.iloc[-1]['Close'] - df.iloc[-1]['Open']) , trailstop= True     )\n",
    "            \n",
    "        print( asset['ticker']+\" checked \" +\", time =  \",BA.strftime(\"%H:%M:%S\") )\n",
    "    print(f\"Sleep for {get_30min_pause()} seconds\")\n",
    "    ping_server_till_next_30min(keys)\n",
    "    time.sleep(get_30min_pause())"
   ]
  },
  {
   "cell_type": "code",
   "execution_count": null,
   "id": "f9723d78-f4b5-4757-8073-be74e407f1e2",
   "metadata": {},
   "outputs": [],
   "source": []
  }
 ],
 "metadata": {
  "kernelspec": {
   "display_name": "Python 3 (ipykernel)",
   "language": "python",
   "name": "python3"
  },
  "language_info": {
   "codemirror_mode": {
    "name": "ipython",
    "version": 3
   },
   "file_extension": ".py",
   "mimetype": "text/x-python",
   "name": "python",
   "nbconvert_exporter": "python",
   "pygments_lexer": "ipython3",
   "version": "3.10.13"
  }
 },
 "nbformat": 4,
 "nbformat_minor": 5
}
