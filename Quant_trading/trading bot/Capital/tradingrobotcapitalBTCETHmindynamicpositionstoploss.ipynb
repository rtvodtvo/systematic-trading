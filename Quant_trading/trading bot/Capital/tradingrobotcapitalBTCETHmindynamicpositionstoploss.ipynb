{
 "cells": [
  {
   "cell_type": "code",
   "execution_count": 8,
   "id": "72ad18a1-259a-46a4-aae8-aa31c9a07bf8",
   "metadata": {},
   "outputs": [],
   "source": [
    "from datetime import datetime\n",
    "from datetime import timedelta\n",
    "import yfinance as yf\n",
    "import time\n",
    "import math\n",
    "import pandas as pd\n",
    "import pandas_ta as ta\n",
    "import json\n",
    "import numpy as np\n",
    "import pandas as pd\n",
    "import http.client\n",
    "import json\n",
    "#casove pasma\n",
    "import pytz\n",
    "import os"
   ]
  },
  {
   "cell_type": "code",
   "execution_count": 9,
   "id": "4ac8797d-0bd5-4e70-833e-f76ba3b0d304",
   "metadata": {},
   "outputs": [],
   "source": [
    "#get current date and time\n",
    "tz_BA = pytz.timezone('Europe/Bratislava')\n",
    "current_datetime = datetime.now(tz_BA).strftime(\"%Y-%m-%d %H-%M-%S\")\n",
    "# convert datetime obj to string\n",
    "str_current_datetime = str(current_datetime)\n",
    "# create a file name\n",
    "file_name = \"//home//jupyter-fiko//sesions log//\"+\"sesionBTCETH \"+str_current_datetime+\".txt\"\n",
    "\n",
    "#We can adjust Jupyter with just a pinch of code so that it saved the output directly to a file on the server\n",
    "import sys\n",
    "import logging\n",
    "so = open(file_name, 'w', 10)\n",
    "sys.stdout.echo = so\n",
    "sys.stderr.echo = so\n",
    "get_ipython().log.handlers[0].stream = so\n",
    "get_ipython().log.setLevel(logging.INFO)"
   ]
  },
  {
   "cell_type": "code",
   "execution_count": 10,
   "id": "fc30f008-7368-4449-826d-53fe7700ddad",
   "metadata": {
    "editable": true,
    "slideshow": {
     "slide_type": ""
    },
    "tags": []
   },
   "outputs": [],
   "source": [
    "%run bot_functions.ipynb\n",
    "%run capital_commands.ipynb"
   ]
  },
  {
   "cell_type": "code",
   "execution_count": 11,
   "id": "c7406f9c-69fd-4f34-8dbc-bfecf032459d",
   "metadata": {},
   "outputs": [],
   "source": [
    "asset_list = [\n",
    "    {'ticker':'BTC', 'yfticker':yf.Ticker('BTC-USD'),'capitalticker':'BTCUSD','apiticker':'Bitcoin / USD'},\n",
    "    {'ticker':'ETH', 'yfticker':yf.Ticker('ETH-USD'),'capitalticker':'ETHUSD','apiticker':'Ethereum / USD'},\n",
    "    {'ticker':'XRP', 'yfticker':yf.Ticker('XRP-USD'),'capitalticker':'ETHUSD','apiticker':'Ripple / USD'}\n",
    "]"
   ]
  },
  {
   "cell_type": "code",
   "execution_count": 12,
   "id": "21ee017e-ab5c-43da-a78a-be84e778e9a5",
   "metadata": {},
   "outputs": [],
   "source": [
    "#acount ids\n",
    "#190868445419885726 = tradingbot\r",
    "#192725185551750302 = daily rsi test"
   ]
  },
  {
   "cell_type": "code",
   "execution_count": 13,
   "id": "722b1588-73bd-40fe-a92e-fa3f678e9e84",
   "metadata": {},
   "outputs": [],
   "source": [
    "keys =get_demo_keys()"
   ]
  },
  {
   "cell_type": "code",
   "execution_count": null,
   "id": "976ba24c-e7d4-4bd4-9f1b-a54c27e64121",
   "metadata": {},
   "outputs": [],
   "source": [
    "#tradelog = []\n",
    "position_size = 0.04\n",
    "stop_loss = 0.005\n",
    "while True:\n",
    "    ping(keys)\n",
    "    switch_acount(keys, 192725185551750302)\n",
    "    #acount_balance_avaivable(keys,'daily rsi test') if u want balance without opened positions\n",
    "    balance =  acount_balance(keys,'daily rsi test')\n",
    "    for asset in asset_list:\n",
    "        start_date = (datetime.now()-timedelta(days=2)).strftime('%Y-%m-%d')\n",
    "        df = asset['yfticker'].history(start=start_date, interval='1m')\n",
    "        price = df.iloc[-1]['Close']\n",
    "        leverage = instrument_leverage(keys,asset['capitalticker'])\n",
    "        position = round((position_size * balance * leverage) / price,2)\n",
    "        df['rsi']  = RSI_Calc(df)\n",
    "        tz_BA = pytz.timezone('Europe/Bratislava')\n",
    "        BA = datetime.now(tz_BA)\n",
    "        print( asset['ticker']+\" current min. rsi = \",df.iloc[-1]['rsi'],\" , time = \", BA.strftime(\"%H:%M:%S\") )\n",
    "        if df.iloc[-2]['rsi'] < 50 and df.iloc[-1]['rsi'] > 50 :\n",
    "            print(f\"Buy {asset['ticker']} {price}\")\n",
    "            #tradelog.append({'date': datetime.now(), 'ticker': asset['yfticker'], 'side': 'buy', 'price': price})\n",
    "            if get_id_from_instrument_name(keys,asset['apiticker']) != []:\n",
    "                close_position(keys,get_id_from_instrument_name(keys,asset['apiticker']))\n",
    "                print(f\"closed previous postion {asset['ticker']} {price}\")\n",
    "            open_position_with_stoploss(keys, asset['capitalticker'], \n",
    "            \"BUY\", position,stop_loss_value(price, position , stop_loss, balance ,\"BUY\",instrument_leverage(keys,asset['capitalticker'])))\n",
    "            \n",
    "        elif df.iloc[-2]['rsi'] > 50 and df.iloc[-1]['rsi'] < 50:\n",
    "            print(f\"Sell {asset['ticker']} {price}\")\n",
    "            #tradelog.append({'date': datetime.now(), 'ticker': asset['yfticker'], 'side': 'sell', 'price': price})\n",
    "            if get_id_from_instrument_name(keys,asset['apiticker']) != []:\n",
    "                close_position(keys,get_id_from_instrument_name(keys,asset['apiticker']))\n",
    "                print(f\"closed previous postion {asset['ticker']} {price}\")\n",
    "            open_position_with_stoploss(keys, asset['capitalticker'], \n",
    "            \"SELL\", position,stop_loss_value(price, position , stop_loss, balance ,\"SELL\", instrument_leverage(keys,asset['capitalticker'])))\n",
    "        \n",
    "    time.sleep(get_pause())"
   ]
  },
  {
   "cell_type": "code",
   "execution_count": null,
   "id": "d8563045-a10c-4849-837d-8659b36ef80c",
   "metadata": {
    "editable": true,
    "slideshow": {
     "slide_type": ""
    },
    "tags": []
   },
   "outputs": [],
   "source": []
  }
 ],
 "metadata": {
  "kernelspec": {
   "display_name": "Python 3 (ipykernel)",
   "language": "python",
   "name": "python3"
  },
  "language_info": {
   "codemirror_mode": {
    "name": "ipython",
    "version": 3
   },
   "file_extension": ".py",
   "mimetype": "text/x-python",
   "name": "python",
   "nbconvert_exporter": "python",
   "pygments_lexer": "ipython3",
   "version": "3.10.13"
  }
 },
 "nbformat": 4,
 "nbformat_minor": 5
}
