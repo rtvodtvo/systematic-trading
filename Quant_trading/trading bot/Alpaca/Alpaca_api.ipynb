{
 "cells": [
  {
   "cell_type": "code",
   "execution_count": 17,
   "id": "8008c62a-430e-40dc-9a79-7dcfc96c6010",
   "metadata": {},
   "outputs": [],
   "source": [
    "#!pip install alpaca-py\n",
    "from alpaca.trading.client import TradingClient\n",
    "from alpaca.trading.requests import GetAssetsRequest"
   ]
  },
  {
   "cell_type": "code",
   "execution_count": 18,
   "id": "dca58647-846c-4226-92e0-860239d51917",
   "metadata": {},
   "outputs": [],
   "source": [
    "#endpoint : https://paper-api.alpaca.markets\n",
    "#key : PKUIVCE99XMPBV9S97YG\n",
    "#secret : em1zMvUm9OnVWMKqKdCwziM0hOYWkURZv73AHcD2"
   ]
  },
  {
   "cell_type": "code",
   "execution_count": 19,
   "id": "572790ad-ca27-47a8-a9ee-28d383253554",
   "metadata": {},
   "outputs": [],
   "source": [
    "API_KEY = \"PKUIVCE99XMPBV9S97YG\"\n",
    "SECRET_KEY = \"em1zMvUm9OnVWMKqKdCwziM0hOYWkURZv73AHcD2\"\n",
    "trading_client = TradingClient(API_KEY, SECRET_KEY, paper=True)"
   ]
  },
  {
   "cell_type": "code",
   "execution_count": 20,
   "id": "c84c3910-34d1-45be-90d2-de158a0ac466",
   "metadata": {},
   "outputs": [],
   "source": [
    "#account = trading_client.get_account()\n",
    "#for property_name, value in account:\n",
    "#  print(f\"\\\"{property_name}\\\": {value}\") "
   ]
  },
  {
   "cell_type": "code",
   "execution_count": 21,
   "id": "c6a52978-b995-4502-809c-c2bd30c7effd",
   "metadata": {},
   "outputs": [],
   "source": [
    "from alpaca.trading.requests import MarketOrderRequest\n",
    "from alpaca.trading.enums import OrderSide, TimeInForce\n",
    "\n",
    "# Setting parameters for our buy order\n",
    "market_order_data = MarketOrderRequest(\n",
    "                      symbol=\"TSLA\",\n",
    "                      qty=1,\n",
    "                      side=OrderSide.SELL,\n",
    "                      time_in_force=TimeInForce.GTC\n",
    "                  )\n",
    "market_order = trading_client.submit_order(market_order_data)"
   ]
  },
  {
   "cell_type": "code",
   "execution_count": 22,
   "id": "d84cea23-2e0d-4cfb-a347-fa3deb01f852",
   "metadata": {},
   "outputs": [],
   "source": [
    "market_order_data = MarketOrderRequest(\n",
    "                      symbol=\"NDAQ\",\n",
    "                      qty=1,\n",
    "                      side=OrderSide.BUY,\n",
    "                      time_in_force=TimeInForce.GTC\n",
    "                  )\n",
    "market_order = trading_client.submit_order(market_order_data)"
   ]
  },
  {
   "cell_type": "code",
   "execution_count": 23,
   "id": "efff477c-ec2c-40a9-b198-553ce76a9063",
   "metadata": {},
   "outputs": [
    {
     "name": "stdout",
     "output_type": "stream",
     "text": [
      "\"asset_id\": cd5c9e8e-df7c-435b-b301-c75eae954069\n",
      "\"symbol\": NDAQ\n",
      "\"exchange\": NASDAQ\n",
      "\"asset_class\": us_equity\n",
      "\"asset_marginable\": True\n",
      "\"avg_entry_price\": 51.46\n",
      "\"qty\": 1\n",
      "\"side\": long\n",
      "\"market_value\": 51.5\n",
      "\"cost_basis\": 51.46\n",
      "\"unrealized_pl\": 0.04\n",
      "\"unrealized_plpc\": 0.0007773027594248\n",
      "\"unrealized_intraday_pl\": 0.04\n",
      "\"unrealized_intraday_plpc\": 0.0007773027594248\n",
      "\"current_price\": 51.5\n",
      "\"lastday_price\": 50.46\n",
      "\"change_today\": 0.0206103844629409\n",
      "\"swap_rate\": None\n",
      "\"avg_entry_swap_rate\": None\n",
      "\"usd\": None\n",
      "\"qty_available\": 0\n",
      "\"asset_id\": 8ccae427-5dd0-45b3-b5fe-7ba5e422c766\n",
      "\"symbol\": TSLA\n",
      "\"exchange\": NASDAQ\n",
      "\"asset_class\": us_equity\n",
      "\"asset_marginable\": True\n",
      "\"avg_entry_price\": 245.74\n",
      "\"qty\": -1\n",
      "\"side\": short\n",
      "\"market_value\": -245.41\n",
      "\"cost_basis\": -245.74\n",
      "\"unrealized_pl\": 0.33\n",
      "\"unrealized_plpc\": 0.0013428827215756\n",
      "\"unrealized_intraday_pl\": 0.33\n",
      "\"unrealized_intraday_plpc\": 0.0013428827215756\n",
      "\"current_price\": 245.41\n",
      "\"lastday_price\": 242.19\n",
      "\"change_today\": 0.01329534662868\n",
      "\"swap_rate\": None\n",
      "\"avg_entry_swap_rate\": None\n",
      "\"usd\": None\n",
      "\"qty_available\": 0\n"
     ]
    }
   ],
   "source": [
    "positions = trading_client.get_all_positions()\n",
    "for position in positions:\n",
    "    for property_name, value in position:\n",
    "        print(f\"\\\"{property_name}\\\": {value}\")"
   ]
  },
  {
   "cell_type": "code",
   "execution_count": null,
   "id": "21b58c49-6ddc-4767-ae4a-2c08c6926cfc",
   "metadata": {},
   "outputs": [],
   "source": []
  }
 ],
 "metadata": {
  "kernelspec": {
   "display_name": "Python 3 (ipykernel)",
   "language": "python",
   "name": "python3"
  },
  "language_info": {
   "codemirror_mode": {
    "name": "ipython",
    "version": 3
   },
   "file_extension": ".py",
   "mimetype": "text/x-python",
   "name": "python",
   "nbconvert_exporter": "python",
   "pygments_lexer": "ipython3",
   "version": "3.10.13"
  }
 },
 "nbformat": 4,
 "nbformat_minor": 5
}
