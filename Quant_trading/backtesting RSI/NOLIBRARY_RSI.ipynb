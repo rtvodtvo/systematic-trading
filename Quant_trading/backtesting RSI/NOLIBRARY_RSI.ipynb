{
 "cells": [
  {
   "cell_type": "code",
   "execution_count": 76,
   "id": "37e3da55-a337-4874-b52c-4763382d01de",
   "metadata": {},
   "outputs": [],
   "source": [
    "import yfinance as yf\n",
    "import matplotlib.pyplot as plt\n",
    "from talipp.indicators import EMA, SMA, Stoch, RSI\n",
    "from talipp.ohlcv import OHLCVFactory\n",
    "import numpy as np\n",
    "import pandas as pd\n",
    "import os\n",
    "#update all packages in python anaconda\n",
    "#conda update --all\n",
    "from datetime import datetime\n",
    "\n",
    "#plotly\n",
    "from plotly.subplots import make_subplots\n",
    "import plotly.graph_objects as go\n",
    "import pandas_ta as ta"
   ]
  },
  {
   "cell_type": "code",
   "execution_count": 77,
   "id": "4ac7100b-aa70-41f5-bee5-eba04fa82d62",
   "metadata": {},
   "outputs": [],
   "source": [
    "#os.getcwd()\n",
    "#%run backtesting_RSI_2.ipynb\n",
    "%run \"C:\\\\Users\\\\adamj\\\\Documents\\\\Projekty_Python\\\\Quant_trading\\\\Plotting_backtesting.ipynb\""
   ]
  },
  {
   "cell_type": "code",
   "execution_count": 78,
   "id": "dce5fe17-c153-4bc3-893c-1532825ae4b4",
   "metadata": {},
   "outputs": [],
   "source": [
    "def generate_rsi_signals(data):\n",
    "    data['rsi'] = ta.rsi(data['Close'])\n",
    "    signals = [None]*len(data['rsi'])\n",
    "    for i in range(1, len(data['rsi'])):\n",
    "        if data.iloc[i-2,6] < 50 and data.iloc[i-1,6] > 50:\n",
    "            signals[i] = 'Buy'\n",
    "        elif data.iloc[i-2,6] > 50 and data.iloc[i-1,6] < 50:\n",
    "            signals[i] = 'Sell'\n",
    "    return signals"
   ]
  },
  {
   "cell_type": "code",
   "execution_count": 79,
   "id": "b4c62ff1-8ecd-4d4c-9d8a-a30d2a2a8b03",
   "metadata": {},
   "outputs": [],
   "source": [
    "#tickers:\n",
    "#tesla TSLA\n",
    "#spx500 ^GSPC\n",
    "#EURUSD=X\n",
    "#amazon amzn"
   ]
  },
  {
   "cell_type": "code",
   "execution_count": 83,
   "id": "ba9e912d-25fe-47b9-9885-127defbf512c",
   "metadata": {},
   "outputs": [
    {
     "name": "stdout",
     "output_type": "stream",
     "text": [
      "[*********************100%***********************]  1 of 1 completed\n",
      "   final_balance: 10681.51 $\n",
      "Profit/Loss:  681.51 $\n",
      "Total return: 6.82 %\n"
     ]
    }
   ],
   "source": [
    "# Input the start and end dates and the stock ticker symbol\n",
    "start_date = '2018-01-01'\n",
    "end_date = '2023-08-06'\n",
    "symbol = 'amzn'\n",
    "# Download the stock price data from Yahoo Finance API\n",
    "data = yf.download(symbol, start=start_date, end=end_date, interval='1d')\n",
    "\n",
    "initial_money = 10000\n",
    "\n",
    "#Determine the Buy or Sell signals based on the 50 level rsi crossovers\n",
    "data['Signal'] = generate_rsi_signals(data)\n",
    "spread = 0.002\n",
    "num_shares=0\n",
    "final_balance=0\n",
    "# Simulate buying and selling based on the generated signals\n",
    "num_trades=0\n",
    "for i in range(len(data)):\n",
    "    if data['Signal'][i] == 'Buy':\n",
    "        num_shares= initial_money/data['Close'][i]#/20\n",
    "        initial_money = initial_money - (num_shares*data['Close'][i])\n",
    "        initial_money = initial_money - (spread*num_shares*data['Close'][i])\n",
    "        num_trades=num_trades+1\n",
    "    elif data['Signal'][i] == 'Sell':\n",
    "        initial_money= initial_money +( num_shares*data['Close'][i])\n",
    "        initial_money = initial_money - (spread*num_shares*data['Close'][i])\n",
    "        num_shares= 0\n",
    "        num_trades=num_trades+1\n",
    "# Calculate the final balance based on the last stock price and remaining number of shares\n",
    "# Calculate the final balance based on the last stock price and remaining number of shares\n",
    "if num_shares > 0:\n",
    "    final_balance =initial_money+ (num_shares*data['Close'][-1])\n",
    "else:\n",
    "    final_balance = initial_money\n",
    "\n",
    "initial_money= 10000\n",
    "totalreturn = (final_balance-initial_money)/initial_money *100\n",
    "# Print the final balance and profit/loss\n",
    "print(f\"   final_balance: {   final_balance:.2f} $\")\n",
    "print(f\"Profit/Loss:  {final_balance - initial_money:.2f} $\")\n",
    "print(f\"Total return: {totalreturn:.2f} %\")"
   ]
  },
  {
   "cell_type": "code",
   "execution_count": 74,
   "id": "bd3e4c92-bebb-4833-b968-335b267e0eb9",
   "metadata": {},
   "outputs": [
    {
     "data": {
      "text/plain": [
       "138"
      ]
     },
     "execution_count": 74,
     "metadata": {},
     "output_type": "execute_result"
    }
   ],
   "source": [
    "num_trades"
   ]
  },
  {
   "cell_type": "code",
   "execution_count": 64,
   "id": "7ada934d-0dd9-4fde-abe8-6dd09a332098",
   "metadata": {},
   "outputs": [
    {
     "data": {
      "text/html": [
       "<div>\n",
       "<style scoped>\n",
       "    .dataframe tbody tr th:only-of-type {\n",
       "        vertical-align: middle;\n",
       "    }\n",
       "\n",
       "    .dataframe tbody tr th {\n",
       "        vertical-align: top;\n",
       "    }\n",
       "\n",
       "    .dataframe thead th {\n",
       "        text-align: right;\n",
       "    }\n",
       "</style>\n",
       "<table border=\"1\" class=\"dataframe\">\n",
       "  <thead>\n",
       "    <tr style=\"text-align: right;\">\n",
       "      <th></th>\n",
       "      <th>Open</th>\n",
       "      <th>High</th>\n",
       "      <th>Low</th>\n",
       "      <th>Close</th>\n",
       "      <th>Adj Close</th>\n",
       "      <th>Volume</th>\n",
       "      <th>rsi</th>\n",
       "      <th>Signal</th>\n",
       "    </tr>\n",
       "    <tr>\n",
       "      <th>Date</th>\n",
       "      <th></th>\n",
       "      <th></th>\n",
       "      <th></th>\n",
       "      <th></th>\n",
       "      <th></th>\n",
       "      <th></th>\n",
       "      <th></th>\n",
       "      <th></th>\n",
       "    </tr>\n",
       "  </thead>\n",
       "  <tbody>\n",
       "    <tr>\n",
       "      <th>2023-03-06</th>\n",
       "      <td>4055.149902</td>\n",
       "      <td>4078.489990</td>\n",
       "      <td>4044.610107</td>\n",
       "      <td>4048.419922</td>\n",
       "      <td>4048.419922</td>\n",
       "      <td>4000870000</td>\n",
       "      <td>53.137483</td>\n",
       "      <td>Buy</td>\n",
       "    </tr>\n",
       "    <tr>\n",
       "      <th>2023-03-22</th>\n",
       "      <td>4002.040039</td>\n",
       "      <td>4039.489990</td>\n",
       "      <td>3936.169922</td>\n",
       "      <td>3936.969971</td>\n",
       "      <td>3936.969971</td>\n",
       "      <td>4533010000</td>\n",
       "      <td>46.644442</td>\n",
       "      <td>Buy</td>\n",
       "    </tr>\n",
       "    <tr>\n",
       "      <th>2023-03-27</th>\n",
       "      <td>3982.929932</td>\n",
       "      <td>4003.830078</td>\n",
       "      <td>3970.489990</td>\n",
       "      <td>3977.530029</td>\n",
       "      <td>3977.530029</td>\n",
       "      <td>4233540000</td>\n",
       "      <td>50.762004</td>\n",
       "      <td>Buy</td>\n",
       "    </tr>\n",
       "    <tr>\n",
       "      <th>2023-04-28</th>\n",
       "      <td>4129.629883</td>\n",
       "      <td>4170.060059</td>\n",
       "      <td>4127.180176</td>\n",
       "      <td>4169.479980</td>\n",
       "      <td>4169.479980</td>\n",
       "      <td>4087800000</td>\n",
       "      <td>61.172511</td>\n",
       "      <td>Buy</td>\n",
       "    </tr>\n",
       "    <tr>\n",
       "      <th>2023-05-08</th>\n",
       "      <td>4136.979980</td>\n",
       "      <td>4142.299805</td>\n",
       "      <td>4123.810059</td>\n",
       "      <td>4138.120117</td>\n",
       "      <td>4138.120117</td>\n",
       "      <td>3641640000</td>\n",
       "      <td>55.042557</td>\n",
       "      <td>Buy</td>\n",
       "    </tr>\n",
       "    <tr>\n",
       "      <th>2023-05-26</th>\n",
       "      <td>4156.160156</td>\n",
       "      <td>4212.870117</td>\n",
       "      <td>4156.160156</td>\n",
       "      <td>4205.450195</td>\n",
       "      <td>4205.450195</td>\n",
       "      <td>3715460000</td>\n",
       "      <td>59.448061</td>\n",
       "      <td>Buy</td>\n",
       "    </tr>\n",
       "  </tbody>\n",
       "</table>\n",
       "</div>"
      ],
      "text/plain": [
       "                   Open         High          Low        Close    Adj Close  \\\n",
       "Date                                                                          \n",
       "2023-03-06  4055.149902  4078.489990  4044.610107  4048.419922  4048.419922   \n",
       "2023-03-22  4002.040039  4039.489990  3936.169922  3936.969971  3936.969971   \n",
       "2023-03-27  3982.929932  4003.830078  3970.489990  3977.530029  3977.530029   \n",
       "2023-04-28  4129.629883  4170.060059  4127.180176  4169.479980  4169.479980   \n",
       "2023-05-08  4136.979980  4142.299805  4123.810059  4138.120117  4138.120117   \n",
       "2023-05-26  4156.160156  4212.870117  4156.160156  4205.450195  4205.450195   \n",
       "\n",
       "                Volume        rsi Signal  \n",
       "Date                                      \n",
       "2023-03-06  4000870000  53.137483    Buy  \n",
       "2023-03-22  4533010000  46.644442    Buy  \n",
       "2023-03-27  4233540000  50.762004    Buy  \n",
       "2023-04-28  4087800000  61.172511    Buy  \n",
       "2023-05-08  3641640000  55.042557    Buy  \n",
       "2023-05-26  3715460000  59.448061    Buy  "
      ]
     },
     "execution_count": 64,
     "metadata": {},
     "output_type": "execute_result"
    }
   ],
   "source": [
    "data[data['Signal']== 'Buy']"
   ]
  },
  {
   "cell_type": "code",
   "execution_count": null,
   "id": "bd97320a-afb6-43b9-a749-73cb5f4d04b6",
   "metadata": {},
   "outputs": [],
   "source": []
  }
 ],
 "metadata": {
  "kernelspec": {
   "display_name": "Python 3 (ipykernel)",
   "language": "python",
   "name": "python3"
  },
  "language_info": {
   "codemirror_mode": {
    "name": "ipython",
    "version": 3
   },
   "file_extension": ".py",
   "mimetype": "text/x-python",
   "name": "python",
   "nbconvert_exporter": "python",
   "pygments_lexer": "ipython3",
   "version": "3.10.13"
  }
 },
 "nbformat": 4,
 "nbformat_minor": 5
}
