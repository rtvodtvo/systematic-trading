{
 "cells": [
  {
   "cell_type": "code",
   "execution_count": null,
   "id": "4ba96115-28b1-4184-9bb7-78843b6f8e46",
   "metadata": {},
   "outputs": [],
   "source": [
    "import numpy as np\n",
    "import pandas as pd\n",
    "from datetime import datetime\n",
    "import vectorbt as vbt\n",
    "import yfinance as yf\n",
    "from talipp.indicators import  RSI\n",
    "import pandas_ta as ta\n",
    "import plotly\n",
    "import warnings\n",
    "warnings.simplefilter(action='ignore', category=FutureWarning)\n",
    "pd.options.mode.chained_assignment = None  # default='warn'"
   ]
  },
  {
   "cell_type": "code",
   "execution_count": null,
   "id": "0bb52e0f-c148-4840-a88b-7b826ad18638",
   "metadata": {},
   "outputs": [],
   "source": [
    "def get_stock_data(symbol, start_date, end_date,interval):\n",
    "    try:\n",
    "        # Download the stock price data from Yahoo Finance API\n",
    "        df = yf.download(symbol, start=start_date, end=end_date, interval=interval, progress=False)\n",
    "        df.columns = [x.lower() for x in df.columns]\n",
    "        \n",
    "        # Calculate MACD values\n",
    "        df.ta.macd(close='close', fast=12, slow=26, append=True)\n",
    "        \n",
    "        # Force lowercase (optional)\n",
    "        df.columns = [x.lower() for x in df.columns]\n",
    "        \n",
    "        # Calculate emas\n",
    "        df[\"ema200\"] = df['close'].ewm(span=200, adjust=False, min_periods=12).mean()\n",
    "        df[\"ema100\"] = df['close'].ewm(span=100, adjust=False, min_periods=12).mean()\n",
    "        df[\"ema50\"] = df['close'].ewm(span=50, adjust=False, min_periods=12).mean()\n",
    "        \n",
    "        # Initialize columns for entries, exits, sell entries, and sell exits\n",
    "        df['entries'] = False\n",
    "        df['exits'] = False\n",
    "        df['sell_entries'] = False\n",
    "        df['sell_exits'] = False\n",
    "\n",
    "        return df\n",
    "    \n",
    "    except Exception as e:\n",
    "        print(f\"Error fetching data for {symbol}: {str(e)}\")\n",
    "        return None"
   ]
  },
  {
   "cell_type": "code",
   "execution_count": null,
   "id": "f89dfdd6-933d-4bcc-af9d-77cf38068b83",
   "metadata": {},
   "outputs": [],
   "source": [
    "def calculate_portfolio_stats(df, init_cash=10000, fees=0.002):\n",
    "    entries = df['entries']\n",
    "    exits = df['exits']\n",
    "    short_entries = df['sell_entries']\n",
    "    short_exits = df['sell_exits']\n",
    "    data = df['close']\n",
    "    # Create a Portfolio instance from signals\n",
    "    pf = vbt.Portfolio.from_signals(\n",
    "        data, entries, exits, short_entries, short_exits,\n",
    "        init_cash=init_cash, fees=fees\n",
    "    )\n",
    "    \n",
    "    # Return portfolio stats\n",
    "    return pf.stats(silence_warnings=True)\n"
   ]
  },
  {
   "cell_type": "code",
   "execution_count": null,
   "id": "0e36791f-60fc-4ebf-9aba-0c8f3627da03",
   "metadata": {},
   "outputs": [],
   "source": [
    "# Function to calculate average for numerical values in a row\n",
    "def calculate_average(row):\n",
    "    # Convert the values in the row to numeric, ignoring non-numeric values\n",
    "    numerical_values = pd.to_numeric(row, errors='coerce')\n",
    "    \n",
    "    # Check if there are numerical values in the row\n",
    "    if not numerical_values.empty:\n",
    "        # Calculate the mean of the numerical values\n",
    "        return np.mean(numerical_values)\n",
    "    \n",
    "    # If no numerical values, return NaN\n",
    "    return np.nan"
   ]
  }
 ],
 "metadata": {
  "kernelspec": {
   "display_name": "Python 3 (ipykernel)",
   "language": "python",
   "name": "python3"
  },
  "language_info": {
   "codemirror_mode": {
    "name": "ipython",
    "version": 3
   },
   "file_extension": ".py",
   "mimetype": "text/x-python",
   "name": "python",
   "nbconvert_exporter": "python",
   "pygments_lexer": "ipython3",
   "version": "3.10.13"
  }
 },
 "nbformat": 4,
 "nbformat_minor": 5
}
