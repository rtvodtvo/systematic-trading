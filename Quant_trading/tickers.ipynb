{
 "cells": [
  {
   "cell_type": "code",
   "execution_count": 50,
   "id": "9c754eeb-636b-4486-85da-beb8adc0eaf2",
   "metadata": {
    "editable": true,
    "slideshow": {
     "slide_type": ""
    },
    "tags": []
   },
   "outputs": [],
   "source": [
    "#data: https://datahub.io/core/s-and-p-500-companies#python\n",
    "import pandas as pd\n",
    "import yfinance as yf\n",
    "import numpy as np\n",
    "import pandas_ta as ta\n",
    "from datapackage import Package\n",
    "import json\n",
    "import random"
   ]
  },
  {
   "cell_type": "code",
   "execution_count": 51,
   "id": "e002a5d4-13d1-4c63-b0bf-94a34bcaf1b8",
   "metadata": {},
   "outputs": [],
   "source": [
    "package = Package('https://datahub.io/core/s-and-p-500-companies/datapackage.json')\n",
    "# print processed tabular data (if exists any)\n",
    "for resource in package.resources:\n",
    "    if resource.descriptor['datahub']['type'] == 'derived/csv':\n",
    "        ticker_list = resource.read()"
   ]
  },
  {
   "cell_type": "code",
   "execution_count": 25,
   "id": "5f5a9f6a-875b-4450-9c1a-c58cd96c2991",
   "metadata": {},
   "outputs": [],
   "source": [
    "#return list of world indices symbols\n",
    "df_list = pd.read_html('https://finance.yahoo.com/world-indices/')\n",
    "indices = df_list[0]\n",
    "#for asset in asset_list:\n",
    "asset_list = []\n",
    "for i in range(0, 17):\n",
    "    asset_dict = {}  # Initialize a new dictionary for each asset\n",
    "    asset_dict['yfticker'] = indices.iloc[i, 0]\n",
    "    asset_dict['name'] = indices.iloc[i, 1]\n",
    "    asset_list.append(asset_dict)  # Append the dictionary to the list"
   ]
  },
  {
   "cell_type": "code",
   "execution_count": 26,
   "id": "48e6ff25-8e50-496e-8676-d4df2d9c4321",
   "metadata": {},
   "outputs": [],
   "source": [
    "# There are 4 tables on the Wikipedia page\n",
    "# we want the last table\n",
    "payload=pd.read_html('https://en.wikipedia.org/wiki/Nasdaq-100')\n",
    "dfnsd = payload[4]\n",
    "#spx500 tickers\n",
    "table=pd.read_html('https://en.wikipedia.org/wiki/List_of_S%26P_500_companies')\n",
    "df = table[0]\n",
    "df.to_csv('S&P500-Info.csv')\n",
    "dfspx = df.to_csv(\"S&P500-Symbols.csv\", columns=['Symbol'])"
   ]
  },
  {
   "cell_type": "code",
   "execution_count": 27,
   "id": "3eb14115-af46-4042-a0b6-c4b0714e5e42",
   "metadata": {},
   "outputs": [],
   "source": [
    "#spx500 tickers\n",
    "#table=pd.read_html('https://en.wikipedia.org/wiki/List_of_S%26P_500_companies')\n",
    "file_path = 'S&P500-Info.csv'\n",
    "df = pd.read_csv(file_path)\n",
    "#df.to_csv('S&P500-Info.csv')\n",
    "#df.to_csv(\"S&P500-Symbols.csv\", columns=['Symbol'])"
   ]
  },
  {
   "cell_type": "code",
   "execution_count": null,
   "id": "a6163567-666a-4721-ac80-8b3c5d8b4cfa",
   "metadata": {},
   "outputs": [],
   "source": [
    "def extract_random_tickers(data, num_tickers=5):\n",
    "    # Ensure there are enough lists in the data\n",
    "    if len(data) < num_tickers:\n",
    "        print(f\"Warning: There are less than {num_tickers} lists in the data.\")\n",
    "        num_tickers = len(data)\n",
    "    \n",
    "    # Randomly sample 'num_tickers' from the data\n",
    "    sampled_lists = random.sample(data, num_tickers)\n",
    "    \n",
    "    # Extract tickers from the sampled lists and format as dictionaries\n",
    "    random_tickers = [{'yfticker': ticker_list[0]} for ticker_list in sampled_lists]\n",
    "    \n",
    "    return random_tickers"
   ]
  },
  {
   "cell_type": "code",
   "execution_count": 29,
   "id": "a6322b83-6e14-4232-be7b-bf0a0606826e",
   "metadata": {},
   "outputs": [],
   "source": [
    "def return_sector_symbols(df, sector):\n",
    "    # Filter rows where 'GICS Sector' is equal to the specified sector\n",
    "    sector_symbols = df[df['GICS Sector'] == sector][['Symbol']]\n",
    "    # Convert the Pandas DataFrame to a list of dictionaries\n",
    "    symbol_list = [{'yfticker': symbol} for symbol in sector_symbols['Symbol'].tolist()]\n",
    "    return symbol_list"
   ]
  },
  {
   "cell_type": "code",
   "execution_count": null,
   "id": "7c902c0a-93bc-42fd-a84f-10e837827cb7",
   "metadata": {},
   "outputs": [],
   "source": [
    "'''\n",
    "# Count frequencies of unique values in the 'GICS Sector' column\n",
    "sector_counts = df['GICS Sector'].value_counts()\n",
    "# Display the result\n",
    "print(sector_counts)\n",
    "#indices = return_sector_symbols(df,'Real Estate')\n",
    "#indices = return_random_symbols( df[df['GICS Sector'] == 'Industrials'], num_symbols=5)\n",
    "#indices\n",
    "'''"
   ]
  },
  {
   "cell_type": "code",
   "execution_count": 30,
   "id": "bc395f35-fe2f-4088-b6df-c3803ef96415",
   "metadata": {},
   "outputs": [],
   "source": [
    "def return_random_symbols(df, num_symbols=5):\n",
    "    # Ensure there are enough symbols in the DataFrame\n",
    "    if len(df) < num_symbols:\n",
    "        print(f\"Warning: There are less than {num_symbols} symbols in the DataFrame.\")\n",
    "        num_symbols = len(df)\n",
    "    # Randomly sample 'num_symbols' from the DataFrame\n",
    "    sampled_symbols = df['Symbol'].sample(n=num_symbols, replace=False).tolist()\n",
    "    # Convert the sampled symbols to a list of dictionaries\n",
    "    symbol_list = [{'yfticker': symbol} for symbol in sampled_symbols]\n",
    "    return symbol_list"
   ]
  },
  {
   "cell_type": "code",
   "execution_count": 31,
   "id": "3ef2decb-fdf6-4631-8370-ab87edc5f9df",
   "metadata": {},
   "outputs": [],
   "source": [
    "def print_min_max_dates(list_of_stock_data):\n",
    "    #used to find out inconsistencies in stock datas\n",
    "    for i, stock_data in enumerate(list_of_stock_data):\n",
    "        df = list_of_stock_data[i]  # Replace 'dataframe' with the actual key holding the DataFrame\n",
    "        if 'date' in df.columns:\n",
    "            min_date = df.iloc[:, 0].min()\n",
    "            max_date = df.iloc[:, 0].max()\n",
    "\n",
    "            print(f\"DataFrame {i + 1}:\")\n",
    "            print(f\"  Minimum Date: {min_date}\")\n",
    "            print(f\"  Maximum Date: {max_date}\")\n",
    "        else:\n",
    "            print(f\"DataFrame {i + 1}: Missing 'date' column.\")"
   ]
  },
  {
   "cell_type": "code",
   "execution_count": 32,
   "id": "4adc666e-6575-42e0-b3b8-6e1232769998",
   "metadata": {},
   "outputs": [],
   "source": [
    "def make_dataframes_same_time(list_of_dataframes):\n",
    "    # Find the common time range\n",
    "    common_start_date = max(df.iloc[:, 0].min() for df in list_of_dataframes)\n",
    "    common_end_date = min(df.iloc[:, 0].max() for df in list_of_dataframes)\n",
    "\n",
    "    # Trim each DataFrame to the common time range\n",
    "    trimmed_dataframes = []\n",
    "    for df in list_of_dataframes:\n",
    "        # Trim the DataFrame to the common time range\n",
    "        df_trimmed = df[(df.iloc[:, 0] >= common_start_date) & (df.iloc[:, 0] <= common_end_date)]\n",
    "        df_trimmed = df_trimmed.reset_index(drop=True)\n",
    "        trimmed_dataframes.append(df_trimmed)\n",
    "\n",
    "    return trimmed_dataframes"
   ]
  },
  {
   "cell_type": "code",
   "execution_count": null,
   "id": "b803c65d-9970-4b96-9884-130bce6cbf37",
   "metadata": {},
   "outputs": [],
   "source": []
  }
 ],
 "metadata": {
  "kernelspec": {
   "display_name": "Python 3 (ipykernel)",
   "language": "python",
   "name": "python3"
  },
  "language_info": {
   "codemirror_mode": {
    "name": "ipython",
    "version": 3
   },
   "file_extension": ".py",
   "mimetype": "text/x-python",
   "name": "python",
   "nbconvert_exporter": "python",
   "pygments_lexer": "ipython3",
   "version": "3.10.13"
  }
 },
 "nbformat": 4,
 "nbformat_minor": 5
}
